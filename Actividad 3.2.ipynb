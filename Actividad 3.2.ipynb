{
 "cells": [
  {
   "cell_type": "code",
   "execution_count": 4,
   "metadata": {},
   "outputs": [],
   "source": [
    "import pandas as pd\n",
    "import matplotlib.pyplot as plt\n",
    "import numpy as np"
   ]
  },
  {
   "cell_type": "code",
   "execution_count": 5,
   "metadata": {},
   "outputs": [],
   "source": [
    "df=pd.read_excel(\"Datos de Facturación.xlsx\")"
   ]
  },
  {
   "cell_type": "code",
   "execution_count": 7,
   "metadata": {},
   "outputs": [
    {
     "data": {
      "text/plain": [
       "CVE_DOC              5\n",
       "CVE_CLPV             0\n",
       "STATUS               9\n",
       "CVE_VEND            48\n",
       "FECHAELAB            2\n",
       "FECHA_DOC            1\n",
       "FECHA_ENT            2\n",
       "FECHA_VEN            0\n",
       "FECHA_CANCELA    10537\n",
       "CAN_TOT              6\n",
       "DES_TOT              1\n",
       "DES_FIN              3\n",
       "dtype: int64"
      ]
     },
     "execution_count": 7,
     "metadata": {},
     "output_type": "execute_result"
    }
   ],
   "source": [
    "valores_nulos2=df.isnull().sum()\n",
    "valores_nulos2"
   ]
  },
  {
   "cell_type": "code",
   "execution_count": 6,
   "metadata": {},
   "outputs": [
    {
     "data": {
      "text/plain": [
       "10614"
      ]
     },
     "execution_count": 6,
     "metadata": {},
     "output_type": "execute_result"
    }
   ],
   "source": [
    "valores_nulos2=df.isnull().sum().sum()\n",
    "valores_nulos2"
   ]
  },
  {
   "cell_type": "code",
   "execution_count": 8,
   "metadata": {},
   "outputs": [],
   "source": [
    "df.drop(\"FECHA_CANCELA\", axis=1, inplace=True)"
   ]
  },
  {
   "cell_type": "code",
   "execution_count": 14,
   "metadata": {},
   "outputs": [
    {
     "data": {
      "text/html": [
       "<div>\n",
       "<style scoped>\n",
       "    .dataframe tbody tr th:only-of-type {\n",
       "        vertical-align: middle;\n",
       "    }\n",
       "\n",
       "    .dataframe tbody tr th {\n",
       "        vertical-align: top;\n",
       "    }\n",
       "\n",
       "    .dataframe thead th {\n",
       "        text-align: right;\n",
       "    }\n",
       "</style>\n",
       "<table border=\"1\" class=\"dataframe\">\n",
       "  <thead>\n",
       "    <tr style=\"text-align: right;\">\n",
       "      <th></th>\n",
       "      <th>CVE_DOC</th>\n",
       "      <th>CVE_CLPV</th>\n",
       "      <th>STATUS</th>\n",
       "      <th>CVE_VEND</th>\n",
       "      <th>FECHAELAB</th>\n",
       "      <th>FECHA_DOC</th>\n",
       "      <th>FECHA_ENT</th>\n",
       "      <th>FECHA_VEN</th>\n",
       "      <th>CAN_TOT</th>\n",
       "      <th>DES_TOT</th>\n",
       "      <th>DES_FIN</th>\n",
       "    </tr>\n",
       "  </thead>\n",
       "  <tbody>\n",
       "    <tr>\n",
       "      <th>0</th>\n",
       "      <td>False</td>\n",
       "      <td>False</td>\n",
       "      <td>False</td>\n",
       "      <td>False</td>\n",
       "      <td>False</td>\n",
       "      <td>False</td>\n",
       "      <td>False</td>\n",
       "      <td>False</td>\n",
       "      <td>False</td>\n",
       "      <td>False</td>\n",
       "      <td>False</td>\n",
       "    </tr>\n",
       "    <tr>\n",
       "      <th>1</th>\n",
       "      <td>False</td>\n",
       "      <td>False</td>\n",
       "      <td>False</td>\n",
       "      <td>False</td>\n",
       "      <td>False</td>\n",
       "      <td>False</td>\n",
       "      <td>False</td>\n",
       "      <td>False</td>\n",
       "      <td>False</td>\n",
       "      <td>False</td>\n",
       "      <td>False</td>\n",
       "    </tr>\n",
       "    <tr>\n",
       "      <th>2</th>\n",
       "      <td>False</td>\n",
       "      <td>False</td>\n",
       "      <td>False</td>\n",
       "      <td>False</td>\n",
       "      <td>False</td>\n",
       "      <td>False</td>\n",
       "      <td>False</td>\n",
       "      <td>False</td>\n",
       "      <td>False</td>\n",
       "      <td>False</td>\n",
       "      <td>False</td>\n",
       "    </tr>\n",
       "    <tr>\n",
       "      <th>3</th>\n",
       "      <td>False</td>\n",
       "      <td>False</td>\n",
       "      <td>False</td>\n",
       "      <td>False</td>\n",
       "      <td>False</td>\n",
       "      <td>False</td>\n",
       "      <td>False</td>\n",
       "      <td>False</td>\n",
       "      <td>False</td>\n",
       "      <td>False</td>\n",
       "      <td>False</td>\n",
       "    </tr>\n",
       "    <tr>\n",
       "      <th>4</th>\n",
       "      <td>False</td>\n",
       "      <td>False</td>\n",
       "      <td>False</td>\n",
       "      <td>False</td>\n",
       "      <td>False</td>\n",
       "      <td>False</td>\n",
       "      <td>False</td>\n",
       "      <td>False</td>\n",
       "      <td>False</td>\n",
       "      <td>False</td>\n",
       "      <td>False</td>\n",
       "    </tr>\n",
       "    <tr>\n",
       "      <th>...</th>\n",
       "      <td>...</td>\n",
       "      <td>...</td>\n",
       "      <td>...</td>\n",
       "      <td>...</td>\n",
       "      <td>...</td>\n",
       "      <td>...</td>\n",
       "      <td>...</td>\n",
       "      <td>...</td>\n",
       "      <td>...</td>\n",
       "      <td>...</td>\n",
       "      <td>...</td>\n",
       "    </tr>\n",
       "    <tr>\n",
       "      <th>10890</th>\n",
       "      <td>False</td>\n",
       "      <td>False</td>\n",
       "      <td>False</td>\n",
       "      <td>False</td>\n",
       "      <td>False</td>\n",
       "      <td>False</td>\n",
       "      <td>False</td>\n",
       "      <td>False</td>\n",
       "      <td>False</td>\n",
       "      <td>False</td>\n",
       "      <td>False</td>\n",
       "    </tr>\n",
       "    <tr>\n",
       "      <th>10891</th>\n",
       "      <td>False</td>\n",
       "      <td>False</td>\n",
       "      <td>True</td>\n",
       "      <td>False</td>\n",
       "      <td>False</td>\n",
       "      <td>False</td>\n",
       "      <td>False</td>\n",
       "      <td>False</td>\n",
       "      <td>False</td>\n",
       "      <td>False</td>\n",
       "      <td>False</td>\n",
       "    </tr>\n",
       "    <tr>\n",
       "      <th>10892</th>\n",
       "      <td>True</td>\n",
       "      <td>False</td>\n",
       "      <td>False</td>\n",
       "      <td>False</td>\n",
       "      <td>False</td>\n",
       "      <td>False</td>\n",
       "      <td>False</td>\n",
       "      <td>False</td>\n",
       "      <td>False</td>\n",
       "      <td>False</td>\n",
       "      <td>False</td>\n",
       "    </tr>\n",
       "    <tr>\n",
       "      <th>10893</th>\n",
       "      <td>False</td>\n",
       "      <td>False</td>\n",
       "      <td>False</td>\n",
       "      <td>False</td>\n",
       "      <td>False</td>\n",
       "      <td>False</td>\n",
       "      <td>False</td>\n",
       "      <td>False</td>\n",
       "      <td>False</td>\n",
       "      <td>False</td>\n",
       "      <td>False</td>\n",
       "    </tr>\n",
       "    <tr>\n",
       "      <th>10894</th>\n",
       "      <td>False</td>\n",
       "      <td>False</td>\n",
       "      <td>False</td>\n",
       "      <td>False</td>\n",
       "      <td>False</td>\n",
       "      <td>False</td>\n",
       "      <td>False</td>\n",
       "      <td>False</td>\n",
       "      <td>False</td>\n",
       "      <td>False</td>\n",
       "      <td>False</td>\n",
       "    </tr>\n",
       "  </tbody>\n",
       "</table>\n",
       "<p>10895 rows × 11 columns</p>\n",
       "</div>"
      ],
      "text/plain": [
       "       CVE_DOC  CVE_CLPV  STATUS  CVE_VEND  FECHAELAB  FECHA_DOC  FECHA_ENT  \\\n",
       "0        False     False   False     False      False      False      False   \n",
       "1        False     False   False     False      False      False      False   \n",
       "2        False     False   False     False      False      False      False   \n",
       "3        False     False   False     False      False      False      False   \n",
       "4        False     False   False     False      False      False      False   \n",
       "...        ...       ...     ...       ...        ...        ...        ...   \n",
       "10890    False     False   False     False      False      False      False   \n",
       "10891    False     False    True     False      False      False      False   \n",
       "10892     True     False   False     False      False      False      False   \n",
       "10893    False     False   False     False      False      False      False   \n",
       "10894    False     False   False     False      False      False      False   \n",
       "\n",
       "       FECHA_VEN  CAN_TOT  DES_TOT  DES_FIN  \n",
       "0          False    False    False    False  \n",
       "1          False    False    False    False  \n",
       "2          False    False    False    False  \n",
       "3          False    False    False    False  \n",
       "4          False    False    False    False  \n",
       "...          ...      ...      ...      ...  \n",
       "10890      False    False    False    False  \n",
       "10891      False    False    False    False  \n",
       "10892      False    False    False    False  \n",
       "10893      False    False    False    False  \n",
       "10894      False    False    False    False  \n",
       "\n",
       "[10895 rows x 11 columns]"
      ]
     },
     "execution_count": 14,
     "metadata": {},
     "output_type": "execute_result"
    }
   ],
   "source": [
    "valores_nulos2=df.isnull()\n",
    "valores_nulos2"
   ]
  },
  {
   "cell_type": "code",
   "execution_count": 11,
   "metadata": {},
   "outputs": [
    {
     "name": "stdout",
     "output_type": "stream",
     "text": [
      "<class 'pandas.core.frame.DataFrame'>\n",
      "RangeIndex: 10895 entries, 0 to 10894\n",
      "Data columns (total 11 columns):\n",
      " #   Column     Non-Null Count  Dtype         \n",
      "---  ------     --------------  -----         \n",
      " 0   CVE_DOC    10890 non-null  object        \n",
      " 1   CVE_CLPV   10895 non-null  object        \n",
      " 2   STATUS     10886 non-null  object        \n",
      " 3   CVE_VEND   10847 non-null  float64       \n",
      " 4   FECHAELAB  10893 non-null  datetime64[ns]\n",
      " 5   FECHA_DOC  10894 non-null  datetime64[ns]\n",
      " 6   FECHA_ENT  10893 non-null  object        \n",
      " 7   FECHA_VEN  10895 non-null  datetime64[ns]\n",
      " 8   CAN_TOT    10889 non-null  float64       \n",
      " 9   DES_TOT    10894 non-null  float64       \n",
      " 10  DES_FIN    10892 non-null  float64       \n",
      "dtypes: datetime64[ns](3), float64(4), object(4)\n",
      "memory usage: 936.4+ KB\n"
     ]
    }
   ],
   "source": [
    "df.info()"
   ]
  },
  {
   "cell_type": "code",
   "execution_count": 13,
   "metadata": {},
   "outputs": [
    {
     "data": {
      "text/plain": [
       "0        F29414\n",
       "1        F29415\n",
       "2        F29416\n",
       "3        F29417\n",
       "4        F29418\n",
       "          ...  \n",
       "10890    F40306\n",
       "10891    F40307\n",
       "10892       NaN\n",
       "10893    F40309\n",
       "10894    F40310\n",
       "Name: CVE_DOC, Length: 10895, dtype: object"
      ]
     },
     "execution_count": 13,
     "metadata": {},
     "output_type": "execute_result"
    }
   ],
   "source": [
    "df.CVE_DOC"
   ]
  },
  {
   "cell_type": "code",
   "execution_count": 16,
   "metadata": {},
   "outputs": [
    {
     "name": "stdout",
     "output_type": "stream",
     "text": [
      "      CVE_DOC    CVE_CLPV STATUS  CVE_VEND               FECHAELAB  FECHA_DOC  \\\n",
      "105       NaN        5926      E       2.0 2019-09-17 14:51:50.000 2019-09-17   \n",
      "4592      NaN        5045      E       2.0 2021-01-27 15:14:51.387 2021-01-27   \n",
      "4606      NaN        3919      E       2.0 2021-01-28 10:32:08.710 2021-01-28   \n",
      "9867      NaN        5814      E       2.0 2022-10-12 09:43:00.827 2022-10-12   \n",
      "10892     NaN        5926      E       2.0 2023-03-06 17:02:33.390 2023-03-06   \n",
      "\n",
      "                 FECHA_ENT  FECHA_VEN   CAN_TOT  DES_TOT  DES_FIN  \n",
      "105    2019-09-17 00:00:00 2019-09-17   595.020      0.0      0.0  \n",
      "4592   2021-01-19 00:00:00 2021-01-27  4201.612      0.0      0.0  \n",
      "4606   2021-01-28 00:00:00 2021-01-28   870.000      0.0      0.0  \n",
      "9867   2022-10-12 00:00:00 2022-10-12  1406.140      0.0      0.0  \n",
      "10892  2023-03-06 00:00:00 2023-03-06   275.680      0.0      0.0  \n"
     ]
    }
   ],
   "source": [
    "null_values = df[df[\"CVE_DOC\"].isnull()]\n",
    "print(null_values)"
   ]
  },
  {
   "cell_type": "markdown",
   "metadata": {},
   "source": [
    "CVE_DOC FUE MODIFICADO DESDE EL EXCEL YA QUE VIMOS QUE SERIA MAS FACIL POR QUE LAS FACTURAS QUE FALTABAN ERAN PURAMENTE CONTINUAS Y SOLO IDENTIFICADORES ASI QUE SOO SE DIDENTIFICARON LAS LINEAS EN LAS QUE ESTABAN UBICADOS LOS FALTANTES Y SE PROCEDIO A LLENARLOS"
   ]
  },
  {
   "cell_type": "code",
   "execution_count": null,
   "metadata": {},
   "outputs": [],
   "source": []
  }
 ],
 "metadata": {
  "kernelspec": {
   "display_name": "Python 3",
   "language": "python",
   "name": "python3"
  },
  "language_info": {
   "codemirror_mode": {
    "name": "ipython",
    "version": 3
   },
   "file_extension": ".py",
   "mimetype": "text/x-python",
   "name": "python",
   "nbconvert_exporter": "python",
   "pygments_lexer": "ipython3",
   "version": "3.11.4"
  },
  "orig_nbformat": 4
 },
 "nbformat": 4,
 "nbformat_minor": 2
}
