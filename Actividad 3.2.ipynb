{
 "cells": [
  {
   "cell_type": "code",
   "execution_count": 1,
   "metadata": {},
   "outputs": [],
   "source": [
    "import pandas as pd\n",
    "import matplotlib.pyplot as plt\n",
    "import numpy as np"
   ]
  },
  {
   "cell_type": "code",
   "execution_count": 2,
   "metadata": {},
   "outputs": [],
   "source": [
    "df=pd.read_excel(\"Datos de Facturación.xlsx\")"
   ]
  },
  {
   "cell_type": "code",
   "execution_count": 3,
   "metadata": {},
   "outputs": [
    {
     "data": {
      "text/plain": [
       "CVE_DOC              0\n",
       "CVE_CLPV             0\n",
       "STATUS               9\n",
       "CVE_VEND            48\n",
       "FECHAELAB            2\n",
       "FECHA_DOC            1\n",
       "FECHA_ENT            2\n",
       "FECHA_VEN            0\n",
       "FECHA_CANCELA    10537\n",
       "CAN_TOT              6\n",
       "DES_TOT              1\n",
       "DES_FIN              3\n",
       "dtype: int64"
      ]
     },
     "execution_count": 3,
     "metadata": {},
     "output_type": "execute_result"
    }
   ],
   "source": [
    "valores_nulos2=df.isnull().sum()\n",
    "valores_nulos2"
   ]
  },
  {
   "cell_type": "code",
   "execution_count": 4,
   "metadata": {},
   "outputs": [
    {
     "data": {
      "text/plain": [
       "10609"
      ]
     },
     "execution_count": 4,
     "metadata": {},
     "output_type": "execute_result"
    }
   ],
   "source": [
    "valores_nulos2=df.isnull().sum().sum()\n",
    "valores_nulos2"
   ]
  },
  {
   "cell_type": "code",
   "execution_count": 5,
   "metadata": {},
   "outputs": [],
   "source": [
    "df.drop(\"FECHA_CANCELA\", axis=1, inplace=True)"
   ]
  },
  {
   "cell_type": "code",
   "execution_count": 6,
   "metadata": {},
   "outputs": [
    {
     "data": {
      "text/html": [
       "<div>\n",
       "<style scoped>\n",
       "    .dataframe tbody tr th:only-of-type {\n",
       "        vertical-align: middle;\n",
       "    }\n",
       "\n",
       "    .dataframe tbody tr th {\n",
       "        vertical-align: top;\n",
       "    }\n",
       "\n",
       "    .dataframe thead th {\n",
       "        text-align: right;\n",
       "    }\n",
       "</style>\n",
       "<table border=\"1\" class=\"dataframe\">\n",
       "  <thead>\n",
       "    <tr style=\"text-align: right;\">\n",
       "      <th></th>\n",
       "      <th>CVE_DOC</th>\n",
       "      <th>CVE_CLPV</th>\n",
       "      <th>STATUS</th>\n",
       "      <th>CVE_VEND</th>\n",
       "      <th>FECHAELAB</th>\n",
       "      <th>FECHA_DOC</th>\n",
       "      <th>FECHA_ENT</th>\n",
       "      <th>FECHA_VEN</th>\n",
       "      <th>CAN_TOT</th>\n",
       "      <th>DES_TOT</th>\n",
       "      <th>DES_FIN</th>\n",
       "    </tr>\n",
       "  </thead>\n",
       "  <tbody>\n",
       "    <tr>\n",
       "      <th>0</th>\n",
       "      <td>False</td>\n",
       "      <td>False</td>\n",
       "      <td>False</td>\n",
       "      <td>False</td>\n",
       "      <td>False</td>\n",
       "      <td>False</td>\n",
       "      <td>False</td>\n",
       "      <td>False</td>\n",
       "      <td>False</td>\n",
       "      <td>False</td>\n",
       "      <td>False</td>\n",
       "    </tr>\n",
       "    <tr>\n",
       "      <th>1</th>\n",
       "      <td>False</td>\n",
       "      <td>False</td>\n",
       "      <td>False</td>\n",
       "      <td>False</td>\n",
       "      <td>False</td>\n",
       "      <td>False</td>\n",
       "      <td>False</td>\n",
       "      <td>False</td>\n",
       "      <td>False</td>\n",
       "      <td>False</td>\n",
       "      <td>False</td>\n",
       "    </tr>\n",
       "    <tr>\n",
       "      <th>2</th>\n",
       "      <td>False</td>\n",
       "      <td>False</td>\n",
       "      <td>False</td>\n",
       "      <td>False</td>\n",
       "      <td>False</td>\n",
       "      <td>False</td>\n",
       "      <td>False</td>\n",
       "      <td>False</td>\n",
       "      <td>False</td>\n",
       "      <td>False</td>\n",
       "      <td>False</td>\n",
       "    </tr>\n",
       "    <tr>\n",
       "      <th>3</th>\n",
       "      <td>False</td>\n",
       "      <td>False</td>\n",
       "      <td>False</td>\n",
       "      <td>False</td>\n",
       "      <td>False</td>\n",
       "      <td>False</td>\n",
       "      <td>False</td>\n",
       "      <td>False</td>\n",
       "      <td>False</td>\n",
       "      <td>False</td>\n",
       "      <td>False</td>\n",
       "    </tr>\n",
       "    <tr>\n",
       "      <th>4</th>\n",
       "      <td>False</td>\n",
       "      <td>False</td>\n",
       "      <td>False</td>\n",
       "      <td>False</td>\n",
       "      <td>False</td>\n",
       "      <td>False</td>\n",
       "      <td>False</td>\n",
       "      <td>False</td>\n",
       "      <td>False</td>\n",
       "      <td>False</td>\n",
       "      <td>False</td>\n",
       "    </tr>\n",
       "    <tr>\n",
       "      <th>...</th>\n",
       "      <td>...</td>\n",
       "      <td>...</td>\n",
       "      <td>...</td>\n",
       "      <td>...</td>\n",
       "      <td>...</td>\n",
       "      <td>...</td>\n",
       "      <td>...</td>\n",
       "      <td>...</td>\n",
       "      <td>...</td>\n",
       "      <td>...</td>\n",
       "      <td>...</td>\n",
       "    </tr>\n",
       "    <tr>\n",
       "      <th>10890</th>\n",
       "      <td>False</td>\n",
       "      <td>False</td>\n",
       "      <td>False</td>\n",
       "      <td>False</td>\n",
       "      <td>False</td>\n",
       "      <td>False</td>\n",
       "      <td>False</td>\n",
       "      <td>False</td>\n",
       "      <td>False</td>\n",
       "      <td>False</td>\n",
       "      <td>False</td>\n",
       "    </tr>\n",
       "    <tr>\n",
       "      <th>10891</th>\n",
       "      <td>False</td>\n",
       "      <td>False</td>\n",
       "      <td>True</td>\n",
       "      <td>False</td>\n",
       "      <td>False</td>\n",
       "      <td>False</td>\n",
       "      <td>False</td>\n",
       "      <td>False</td>\n",
       "      <td>False</td>\n",
       "      <td>False</td>\n",
       "      <td>False</td>\n",
       "    </tr>\n",
       "    <tr>\n",
       "      <th>10892</th>\n",
       "      <td>False</td>\n",
       "      <td>False</td>\n",
       "      <td>False</td>\n",
       "      <td>False</td>\n",
       "      <td>False</td>\n",
       "      <td>False</td>\n",
       "      <td>False</td>\n",
       "      <td>False</td>\n",
       "      <td>False</td>\n",
       "      <td>False</td>\n",
       "      <td>False</td>\n",
       "    </tr>\n",
       "    <tr>\n",
       "      <th>10893</th>\n",
       "      <td>False</td>\n",
       "      <td>False</td>\n",
       "      <td>False</td>\n",
       "      <td>False</td>\n",
       "      <td>False</td>\n",
       "      <td>False</td>\n",
       "      <td>False</td>\n",
       "      <td>False</td>\n",
       "      <td>False</td>\n",
       "      <td>False</td>\n",
       "      <td>False</td>\n",
       "    </tr>\n",
       "    <tr>\n",
       "      <th>10894</th>\n",
       "      <td>False</td>\n",
       "      <td>False</td>\n",
       "      <td>False</td>\n",
       "      <td>False</td>\n",
       "      <td>False</td>\n",
       "      <td>False</td>\n",
       "      <td>False</td>\n",
       "      <td>False</td>\n",
       "      <td>False</td>\n",
       "      <td>False</td>\n",
       "      <td>False</td>\n",
       "    </tr>\n",
       "  </tbody>\n",
       "</table>\n",
       "<p>10895 rows × 11 columns</p>\n",
       "</div>"
      ],
      "text/plain": [
       "       CVE_DOC  CVE_CLPV  STATUS  CVE_VEND  FECHAELAB  FECHA_DOC  FECHA_ENT  \\\n",
       "0        False     False   False     False      False      False      False   \n",
       "1        False     False   False     False      False      False      False   \n",
       "2        False     False   False     False      False      False      False   \n",
       "3        False     False   False     False      False      False      False   \n",
       "4        False     False   False     False      False      False      False   \n",
       "...        ...       ...     ...       ...        ...        ...        ...   \n",
       "10890    False     False   False     False      False      False      False   \n",
       "10891    False     False    True     False      False      False      False   \n",
       "10892    False     False   False     False      False      False      False   \n",
       "10893    False     False   False     False      False      False      False   \n",
       "10894    False     False   False     False      False      False      False   \n",
       "\n",
       "       FECHA_VEN  CAN_TOT  DES_TOT  DES_FIN  \n",
       "0          False    False    False    False  \n",
       "1          False    False    False    False  \n",
       "2          False    False    False    False  \n",
       "3          False    False    False    False  \n",
       "4          False    False    False    False  \n",
       "...          ...      ...      ...      ...  \n",
       "10890      False    False    False    False  \n",
       "10891      False    False    False    False  \n",
       "10892      False    False    False    False  \n",
       "10893      False    False    False    False  \n",
       "10894      False    False    False    False  \n",
       "\n",
       "[10895 rows x 11 columns]"
      ]
     },
     "execution_count": 6,
     "metadata": {},
     "output_type": "execute_result"
    }
   ],
   "source": [
    "valores_nulos2=df.isnull()\n",
    "valores_nulos2"
   ]
  },
  {
   "cell_type": "code",
   "execution_count": 7,
   "metadata": {},
   "outputs": [
    {
     "name": "stdout",
     "output_type": "stream",
     "text": [
      "<class 'pandas.core.frame.DataFrame'>\n",
      "RangeIndex: 10895 entries, 0 to 10894\n",
      "Data columns (total 11 columns):\n",
      " #   Column     Non-Null Count  Dtype         \n",
      "---  ------     --------------  -----         \n",
      " 0   CVE_DOC    10895 non-null  object        \n",
      " 1   CVE_CLPV   10895 non-null  object        \n",
      " 2   STATUS     10886 non-null  object        \n",
      " 3   CVE_VEND   10847 non-null  float64       \n",
      " 4   FECHAELAB  10893 non-null  datetime64[ns]\n",
      " 5   FECHA_DOC  10894 non-null  datetime64[ns]\n",
      " 6   FECHA_ENT  10893 non-null  object        \n",
      " 7   FECHA_VEN  10895 non-null  datetime64[ns]\n",
      " 8   CAN_TOT    10889 non-null  float64       \n",
      " 9   DES_TOT    10894 non-null  float64       \n",
      " 10  DES_FIN    10892 non-null  float64       \n",
      "dtypes: datetime64[ns](3), float64(4), object(4)\n",
      "memory usage: 936.4+ KB\n"
     ]
    }
   ],
   "source": [
    "df.info()"
   ]
  },
  {
   "cell_type": "code",
   "execution_count": 8,
   "metadata": {},
   "outputs": [
    {
     "data": {
      "text/plain": [
       "0        F29414\n",
       "1        F29415\n",
       "2        F29416\n",
       "3        F29417\n",
       "4        F29418\n",
       "          ...  \n",
       "10890    F40306\n",
       "10891    F40307\n",
       "10892    F40308\n",
       "10893    F40309\n",
       "10894    F40310\n",
       "Name: CVE_DOC, Length: 10895, dtype: object"
      ]
     },
     "execution_count": 8,
     "metadata": {},
     "output_type": "execute_result"
    }
   ],
   "source": [
    "df.CVE_DOC"
   ]
  },
  {
   "cell_type": "code",
   "execution_count": 9,
   "metadata": {},
   "outputs": [
    {
     "name": "stdout",
     "output_type": "stream",
     "text": [
      "Empty DataFrame\n",
      "Columns: [CVE_DOC, CVE_CLPV, STATUS, CVE_VEND, FECHAELAB, FECHA_DOC, FECHA_ENT, FECHA_VEN, CAN_TOT, DES_TOT, DES_FIN]\n",
      "Index: []\n"
     ]
    }
   ],
   "source": [
    "null_values = df[df[\"CVE_DOC\"].isnull()]\n",
    "print(null_values)"
   ]
  },
  {
   "cell_type": "markdown",
   "metadata": {},
   "source": [
    "CVE_DOC FUE MODIFICADO DESDE EL EXCEL YA QUE VIMOS QUE SERIA MAS FACIL POR QUE LAS FACTURAS QUE FALTABAN ERAN PURAMENTE CONTINUAS Y SOLO IDENTIFICADORES ASI QUE SOO SE DIDENTIFICARON LAS LINEAS EN LAS QUE ESTABAN UBICADOS LOS FALTANTES Y SE PROCEDIO A LLENARLOS"
   ]
  },
  {
   "cell_type": "code",
   "execution_count": 10,
   "metadata": {},
   "outputs": [
    {
     "data": {
      "text/plain": [
       "72"
      ]
     },
     "execution_count": 10,
     "metadata": {},
     "output_type": "execute_result"
    }
   ],
   "source": [
    "valores_nulos2=df.isnull().sum().sum()\n",
    "valores_nulos2"
   ]
  },
  {
   "cell_type": "code",
   "execution_count": 11,
   "metadata": {},
   "outputs": [
    {
     "data": {
      "text/plain": [
       "CVE_DOC       0\n",
       "CVE_CLPV      0\n",
       "STATUS        9\n",
       "CVE_VEND     48\n",
       "FECHAELAB     2\n",
       "FECHA_DOC     1\n",
       "FECHA_ENT     2\n",
       "FECHA_VEN     0\n",
       "CAN_TOT       6\n",
       "DES_TOT       1\n",
       "DES_FIN       3\n",
       "dtype: int64"
      ]
     },
     "execution_count": 11,
     "metadata": {},
     "output_type": "execute_result"
    }
   ],
   "source": [
    "valores_nulos2=df.isnull().sum()\n",
    "valores_nulos2"
   ]
  },
  {
   "cell_type": "code",
   "execution_count": 12,
   "metadata": {},
   "outputs": [],
   "source": [
    "\n",
    "df[\"STATUS\"].fillna(\"N\", inplace=True)"
   ]
  },
  {
   "cell_type": "code",
   "execution_count": 13,
   "metadata": {},
   "outputs": [
    {
     "data": {
      "text/plain": [
       "CVE_DOC       0\n",
       "CVE_CLPV      0\n",
       "STATUS        0\n",
       "CVE_VEND     48\n",
       "FECHAELAB     2\n",
       "FECHA_DOC     1\n",
       "FECHA_ENT     2\n",
       "FECHA_VEN     0\n",
       "CAN_TOT       6\n",
       "DES_TOT       1\n",
       "DES_FIN       3\n",
       "dtype: int64"
      ]
     },
     "execution_count": 13,
     "metadata": {},
     "output_type": "execute_result"
    }
   ],
   "source": [
    "valores_nulos2=df.isnull().sum()\n",
    "valores_nulos2"
   ]
  },
  {
   "cell_type": "code",
   "execution_count": 14,
   "metadata": {},
   "outputs": [
    {
     "name": "stdout",
     "output_type": "stream",
     "text": [
      "<class 'pandas.core.frame.DataFrame'>\n",
      "RangeIndex: 10895 entries, 0 to 10894\n",
      "Data columns (total 11 columns):\n",
      " #   Column     Non-Null Count  Dtype         \n",
      "---  ------     --------------  -----         \n",
      " 0   CVE_DOC    10895 non-null  object        \n",
      " 1   CVE_CLPV   10895 non-null  object        \n",
      " 2   STATUS     10895 non-null  object        \n",
      " 3   CVE_VEND   10847 non-null  float64       \n",
      " 4   FECHAELAB  10893 non-null  datetime64[ns]\n",
      " 5   FECHA_DOC  10894 non-null  datetime64[ns]\n",
      " 6   FECHA_ENT  10893 non-null  object        \n",
      " 7   FECHA_VEN  10895 non-null  datetime64[ns]\n",
      " 8   CAN_TOT    10889 non-null  float64       \n",
      " 9   DES_TOT    10894 non-null  float64       \n",
      " 10  DES_FIN    10892 non-null  float64       \n",
      "dtypes: datetime64[ns](3), float64(4), object(4)\n",
      "memory usage: 936.4+ KB\n"
     ]
    }
   ],
   "source": [
    "df.info()"
   ]
  },
  {
   "cell_type": "code",
   "execution_count": 15,
   "metadata": {},
   "outputs": [
    {
     "name": "stdout",
     "output_type": "stream",
     "text": [
      "CVE_DOC      0\n",
      "CVE_CLPV     0\n",
      "STATUS       0\n",
      "CVE_VEND     0\n",
      "FECHAELAB    2\n",
      "FECHA_DOC    1\n",
      "FECHA_ENT    2\n",
      "FECHA_VEN    0\n",
      "CAN_TOT      6\n",
      "DES_TOT      1\n",
      "DES_FIN      3\n",
      "dtype: int64\n"
     ]
    }
   ],
   "source": [
    "x=0\n",
    "df[\"CVE_VEND\"].fillna(x,inplace = True)\n",
    "print(df.isnull().sum())"
   ]
  },
  {
   "cell_type": "code",
   "execution_count": 16,
   "metadata": {},
   "outputs": [
    {
     "name": "stdout",
     "output_type": "stream",
     "text": [
      "Mode is:  0       2019-09-03 08:58:42.000\n",
      "1       2019-09-03 09:55:14.000\n",
      "2       2019-09-03 13:25:33.000\n",
      "3       2019-09-03 13:33:23.000\n",
      "4       2019-09-03 14:23:45.000\n",
      "                  ...          \n",
      "10888   2023-03-06 16:09:39.013\n",
      "10889   2023-03-06 16:38:42.933\n",
      "10890   2023-03-06 17:02:33.390\n",
      "10891   2023-03-07 12:43:49.567\n",
      "10892   2023-03-07 12:45:58.407\n",
      "Name: FECHAELAB, Length: 10893, dtype: datetime64[ns]\n",
      "CVE_DOC      0\n",
      "CVE_CLPV     0\n",
      "STATUS       0\n",
      "CVE_VEND     0\n",
      "FECHAELAB    0\n",
      "FECHA_DOC    1\n",
      "FECHA_ENT    2\n",
      "FECHA_VEN    0\n",
      "CAN_TOT      6\n",
      "DES_TOT      1\n",
      "DES_FIN      3\n",
      "dtype: int64\n"
     ]
    }
   ],
   "source": [
    "x=df[\"FECHAELAB\"].mode()\n",
    "print(\"Mode is: \", x)\n",
    "df[\"FECHAELAB\"].fillna(x,inplace = True)\n",
    "print(df.isnull().sum())"
   ]
  },
  {
   "cell_type": "code",
   "execution_count": 17,
   "metadata": {},
   "outputs": [
    {
     "name": "stdout",
     "output_type": "stream",
     "text": [
      "Mode is:  0   2020-02-28\n",
      "Name: FECHA_DOC, dtype: datetime64[ns]\n",
      "CVE_DOC      0\n",
      "CVE_CLPV     0\n",
      "STATUS       0\n",
      "CVE_VEND     0\n",
      "FECHAELAB    0\n",
      "FECHA_DOC    0\n",
      "FECHA_ENT    2\n",
      "FECHA_VEN    0\n",
      "CAN_TOT      6\n",
      "DES_TOT      1\n",
      "DES_FIN      3\n",
      "dtype: int64\n"
     ]
    }
   ],
   "source": [
    "x=df[\"FECHA_DOC\"].mode()\n",
    "print(\"Mode is: \", x)\n",
    "df[\"FECHA_DOC\"].fillna(0,inplace = True)\n",
    "print(df.isnull().sum())"
   ]
  },
  {
   "cell_type": "code",
   "execution_count": 18,
   "metadata": {},
   "outputs": [
    {
     "name": "stdout",
     "output_type": "stream",
     "text": [
      "Mode is:  0   2020-02-28\n",
      "Name: FECHA_ENT, dtype: datetime64[ns]\n",
      "CVE_DOC      0\n",
      "CVE_CLPV     0\n",
      "STATUS       0\n",
      "CVE_VEND     0\n",
      "FECHAELAB    0\n",
      "FECHA_DOC    0\n",
      "FECHA_ENT    0\n",
      "FECHA_VEN    0\n",
      "CAN_TOT      6\n",
      "DES_TOT      1\n",
      "DES_FIN      3\n",
      "dtype: int64\n"
     ]
    }
   ],
   "source": [
    "x=df[\"FECHA_ENT\"].mode()\n",
    "print(\"Mode is: \", x)\n",
    "df[\"FECHA_ENT\"].fillna(0,inplace = True)\n",
    "print(df.isnull().sum())"
   ]
  },
  {
   "cell_type": "code",
   "execution_count": 19,
   "metadata": {},
   "outputs": [
    {
     "name": "stdout",
     "output_type": "stream",
     "text": [
      "Mode is:  4518.2255277732565\n",
      "CVE_DOC      0\n",
      "CVE_CLPV     0\n",
      "STATUS       0\n",
      "CVE_VEND     0\n",
      "FECHAELAB    0\n",
      "FECHA_DOC    0\n",
      "FECHA_ENT    0\n",
      "FECHA_VEN    0\n",
      "CAN_TOT      0\n",
      "DES_TOT      1\n",
      "DES_FIN      3\n",
      "dtype: int64\n"
     ]
    }
   ],
   "source": [
    "x=df[\"CAN_TOT\"].mean()\n",
    "print(\"Mode is: \", x)\n",
    "df[\"CAN_TOT\"].fillna(x,inplace = True)\n",
    "print(df.isnull().sum())"
   ]
  },
  {
   "cell_type": "code",
   "execution_count": 20,
   "metadata": {},
   "outputs": [
    {
     "name": "stdout",
     "output_type": "stream",
     "text": [
      "Mode is:  18.258288048467048\n",
      "CVE_DOC      0\n",
      "CVE_CLPV     0\n",
      "STATUS       0\n",
      "CVE_VEND     0\n",
      "FECHAELAB    0\n",
      "FECHA_DOC    0\n",
      "FECHA_ENT    0\n",
      "FECHA_VEN    0\n",
      "CAN_TOT      0\n",
      "DES_TOT      0\n",
      "DES_FIN      3\n",
      "dtype: int64\n"
     ]
    }
   ],
   "source": [
    "x=df[\"DES_TOT\"].mean()\n",
    "print(\"Mode is: \", x)\n",
    "df[\"DES_TOT\"].fillna(x,inplace = True)\n",
    "print(df.isnull().sum())"
   ]
  },
  {
   "cell_type": "code",
   "execution_count": 21,
   "metadata": {},
   "outputs": [
    {
     "name": "stdout",
     "output_type": "stream",
     "text": [
      "Mode is:  0.0\n",
      "CVE_DOC      0\n",
      "CVE_CLPV     0\n",
      "STATUS       0\n",
      "CVE_VEND     0\n",
      "FECHAELAB    0\n",
      "FECHA_DOC    0\n",
      "FECHA_ENT    0\n",
      "FECHA_VEN    0\n",
      "CAN_TOT      0\n",
      "DES_TOT      0\n",
      "DES_FIN      0\n",
      "dtype: int64\n"
     ]
    }
   ],
   "source": [
    "x=df[\"DES_FIN\"].mean()\n",
    "print(\"Mode is: \", x)\n",
    "df[\"DES_FIN\"].fillna(x,inplace = True)\n",
    "print(df.isnull().sum())"
   ]
  },
  {
   "cell_type": "markdown",
   "metadata": {},
   "source": [
    "TODOS LOS DATOS DE \"Datos de Facturación\" QUE ERAN FECHA FUERON SUSTITUIDOS POR MODA YA QUE ES LA FORMA MAS PLAUSIBLE DE HACERLO POR LAS MEDIDAS ARITMETICAS, LOS DATOS QUE SON CANTIDADES POR MEDIA YA QUE LA MODA ERA 0 PERO LA MEDIA SI ERA REALMENTE DIFERENTE EN VARIOS DE ELLOS"
   ]
  },
  {
   "cell_type": "code",
   "execution_count": 22,
   "metadata": {},
   "outputs": [],
   "source": [
    "df2=pd.read_excel(\"Detalle precios y productos fabricados 2022.xlsx\")"
   ]
  },
  {
   "cell_type": "code",
   "execution_count": 23,
   "metadata": {},
   "outputs": [
    {
     "data": {
      "text/plain": [
       "CVE_DOC                      3\n",
       "FECHA_DOC                    3\n",
       "NOMBRE_VENDEDOR              2\n",
       "NOMBRE_CLIENTE               2\n",
       "CANT                         7\n",
       "CVE_ART                      2\n",
       "DESCR                        2\n",
       "PRECIO_UNITARIO              0\n",
       "COSTO_UNITARIO               0\n",
       "COSTO_UNITARIO_CALCULADO     0\n",
       "SUBTOTAL_PARTIDA             0\n",
       "COSTO_TOTAL_CALCULADO        0\n",
       "MARGEN_UNITARIO_CALCULADO    0\n",
       "MARGEN_TOTAL_CALCULADO       0\n",
       "dtype: int64"
      ]
     },
     "execution_count": 23,
     "metadata": {},
     "output_type": "execute_result"
    }
   ],
   "source": [
    "valores_nulos2=df2.isnull().sum()\n",
    "valores_nulos2"
   ]
  },
  {
   "cell_type": "code",
   "execution_count": 24,
   "metadata": {},
   "outputs": [
    {
     "data": {
      "text/plain": [
       "21"
      ]
     },
     "execution_count": 24,
     "metadata": {},
     "output_type": "execute_result"
    }
   ],
   "source": [
    "valores_nulos2=df2.isnull().sum().sum()\n",
    "valores_nulos2"
   ]
  },
  {
   "cell_type": "code",
   "execution_count": 25,
   "metadata": {},
   "outputs": [
    {
     "name": "stdout",
     "output_type": "stream",
     "text": [
      "    CVE_DOC  FECHA_DOC            NOMBRE_VENDEDOR         NOMBRE_CLIENTE  \\\n",
      "670     NaN 2022-06-09  LETICIA RAMIREZ HERNANDEZ  KARINA AGUILAR TORRES   \n",
      "679     NaN 2022-06-14  LETICIA RAMIREZ HERNANDEZ          JT RESIDENCES   \n",
      "683     NaN 2022-06-15  LETICIA RAMIREZ HERNANDEZ  DANIEL CRUZ HERNANDEZ   \n",
      "\n",
      "     CANT       CVE_ART                                     DESCR  \\\n",
      "670   4.0        TP0012  TERMOPAR CERAMICO T/ K\" LONG 12\" CAL.14\"   \n",
      "679   4.0      TUS00005  TUB INOX716Øx1421mm LONG \"M\" 3000W/220V\"   \n",
      "683   3.0  CS14D2017B20   CAS INOX 1/4\"ØX2\" 175W240V EXT30CM C/TJ   \n",
      "\n",
      "     PRECIO_UNITARIO  COSTO_UNITARIO  COSTO_UNITARIO_CALCULADO  \\\n",
      "670           375.00           54.80                     54.80   \n",
      "679           799.10          174.94                    174.94   \n",
      "683           812.53            0.00                    111.07   \n",
      "\n",
      "     SUBTOTAL_PARTIDA  COSTO_TOTAL_CALCULADO  MARGEN_UNITARIO_CALCULADO  \\\n",
      "670           1500.00                 219.20                     320.20   \n",
      "679           3196.40                 699.77                     624.16   \n",
      "683           2437.59                 333.20                     701.46   \n",
      "\n",
      "     MARGEN_TOTAL_CALCULADO  \n",
      "670                 1280.80  \n",
      "679                 2496.63  \n",
      "683                 2104.39  \n"
     ]
    }
   ],
   "source": [
    "null_values2 = df2[df2[\"CVE_DOC\"].isnull()]\n",
    "print(null_values2)"
   ]
  },
  {
   "cell_type": "code",
   "execution_count": 26,
   "metadata": {},
   "outputs": [
    {
     "name": "stdout",
     "output_type": "stream",
     "text": [
      "CVE_DOC                      0\n",
      "FECHA_DOC                    3\n",
      "NOMBRE_VENDEDOR              2\n",
      "NOMBRE_CLIENTE               2\n",
      "CANT                         7\n",
      "CVE_ART                      2\n",
      "DESCR                        2\n",
      "PRECIO_UNITARIO              0\n",
      "COSTO_UNITARIO               0\n",
      "COSTO_UNITARIO_CALCULADO     0\n",
      "SUBTOTAL_PARTIDA             0\n",
      "COSTO_TOTAL_CALCULADO        0\n",
      "MARGEN_UNITARIO_CALCULADO    0\n",
      "MARGEN_TOTAL_CALCULADO       0\n",
      "dtype: int64\n"
     ]
    }
   ],
   "source": [
    "df2[\"CVE_DOC\"].fillna(\"UNKNOWN\",inplace = True)\n",
    "print(df2.isnull().sum())"
   ]
  },
  {
   "cell_type": "code",
   "execution_count": 27,
   "metadata": {},
   "outputs": [
    {
     "name": "stdout",
     "output_type": "stream",
     "text": [
      "CVE_DOC                      0\n",
      "FECHA_DOC                    3\n",
      "NOMBRE_VENDEDOR              2\n",
      "NOMBRE_CLIENTE               0\n",
      "CANT                         7\n",
      "CVE_ART                      2\n",
      "DESCR                        2\n",
      "PRECIO_UNITARIO              0\n",
      "COSTO_UNITARIO               0\n",
      "COSTO_UNITARIO_CALCULADO     0\n",
      "SUBTOTAL_PARTIDA             0\n",
      "COSTO_TOTAL_CALCULADO        0\n",
      "MARGEN_UNITARIO_CALCULADO    0\n",
      "MARGEN_TOTAL_CALCULADO       0\n",
      "dtype: int64\n"
     ]
    }
   ],
   "source": [
    "df2[\"NOMBRE_CLIENTE\"].fillna(\"UNKNOWN\",inplace = True)\n",
    "print(df2.isnull().sum())"
   ]
  },
  {
   "cell_type": "code",
   "execution_count": 28,
   "metadata": {},
   "outputs": [
    {
     "name": "stdout",
     "output_type": "stream",
     "text": [
      "CVE_DOC                      0\n",
      "FECHA_DOC                    3\n",
      "NOMBRE_VENDEDOR              0\n",
      "NOMBRE_CLIENTE               0\n",
      "CANT                         7\n",
      "CVE_ART                      2\n",
      "DESCR                        2\n",
      "PRECIO_UNITARIO              0\n",
      "COSTO_UNITARIO               0\n",
      "COSTO_UNITARIO_CALCULADO     0\n",
      "SUBTOTAL_PARTIDA             0\n",
      "COSTO_TOTAL_CALCULADO        0\n",
      "MARGEN_UNITARIO_CALCULADO    0\n",
      "MARGEN_TOTAL_CALCULADO       0\n",
      "dtype: int64\n"
     ]
    }
   ],
   "source": [
    "df2[\"NOMBRE_VENDEDOR\"].fillna(\"UNKNOWN\",inplace = True)\n",
    "print(df2.isnull().sum())"
   ]
  },
  {
   "cell_type": "code",
   "execution_count": 29,
   "metadata": {},
   "outputs": [
    {
     "name": "stdout",
     "output_type": "stream",
     "text": [
      "CVE_DOC                      0\n",
      "FECHA_DOC                    3\n",
      "NOMBRE_VENDEDOR              0\n",
      "NOMBRE_CLIENTE               0\n",
      "CANT                         0\n",
      "CVE_ART                      2\n",
      "DESCR                        2\n",
      "PRECIO_UNITARIO              0\n",
      "COSTO_UNITARIO               0\n",
      "COSTO_UNITARIO_CALCULADO     0\n",
      "SUBTOTAL_PARTIDA             0\n",
      "COSTO_TOTAL_CALCULADO        0\n",
      "MARGEN_UNITARIO_CALCULADO    0\n",
      "MARGEN_TOTAL_CALCULADO       0\n",
      "dtype: int64\n"
     ]
    }
   ],
   "source": [
    "x=df2[\"CANT\"].mean()\n",
    "df2[\"CANT\"].fillna(x,inplace = True)\n",
    "print(df2.isnull().sum())"
   ]
  },
  {
   "cell_type": "code",
   "execution_count": 30,
   "metadata": {},
   "outputs": [
    {
     "name": "stdout",
     "output_type": "stream",
     "text": [
      "0   2022-02-28\n",
      "Name: FECHA_DOC, dtype: datetime64[ns]\n",
      "CVE_DOC                      0\n",
      "FECHA_DOC                    0\n",
      "NOMBRE_VENDEDOR              0\n",
      "NOMBRE_CLIENTE               0\n",
      "CANT                         0\n",
      "CVE_ART                      2\n",
      "DESCR                        2\n",
      "PRECIO_UNITARIO              0\n",
      "COSTO_UNITARIO               0\n",
      "COSTO_UNITARIO_CALCULADO     0\n",
      "SUBTOTAL_PARTIDA             0\n",
      "COSTO_TOTAL_CALCULADO        0\n",
      "MARGEN_UNITARIO_CALCULADO    0\n",
      "MARGEN_TOTAL_CALCULADO       0\n",
      "dtype: int64\n"
     ]
    }
   ],
   "source": [
    "x=df2[\"FECHA_DOC\"].mode()\n",
    "print(x)\n",
    "df2[\"FECHA_DOC\"].fillna(\"2022-02-28\",inplace = True)\n",
    "print(df2.isnull().sum())"
   ]
  },
  {
   "cell_type": "code",
   "execution_count": 31,
   "metadata": {},
   "outputs": [
    {
     "name": "stdout",
     "output_type": "stream",
     "text": [
      "CVE_DOC                      0\n",
      "FECHA_DOC                    0\n",
      "NOMBRE_VENDEDOR              0\n",
      "NOMBRE_CLIENTE               0\n",
      "CANT                         0\n",
      "CVE_ART                      0\n",
      "DESCR                        2\n",
      "PRECIO_UNITARIO              0\n",
      "COSTO_UNITARIO               0\n",
      "COSTO_UNITARIO_CALCULADO     0\n",
      "SUBTOTAL_PARTIDA             0\n",
      "COSTO_TOTAL_CALCULADO        0\n",
      "MARGEN_UNITARIO_CALCULADO    0\n",
      "MARGEN_TOTAL_CALCULADO       0\n",
      "dtype: int64\n"
     ]
    }
   ],
   "source": [
    "\n",
    "df2[\"CVE_ART\"].fillna(\"UNKNOWN\",inplace = True)\n",
    "print(df2.isnull().sum())"
   ]
  },
  {
   "cell_type": "code",
   "execution_count": 32,
   "metadata": {},
   "outputs": [
    {
     "name": "stdout",
     "output_type": "stream",
     "text": [
      "CVE_DOC                      0\n",
      "FECHA_DOC                    0\n",
      "NOMBRE_VENDEDOR              0\n",
      "NOMBRE_CLIENTE               0\n",
      "CANT                         0\n",
      "CVE_ART                      0\n",
      "DESCR                        0\n",
      "PRECIO_UNITARIO              0\n",
      "COSTO_UNITARIO               0\n",
      "COSTO_UNITARIO_CALCULADO     0\n",
      "SUBTOTAL_PARTIDA             0\n",
      "COSTO_TOTAL_CALCULADO        0\n",
      "MARGEN_UNITARIO_CALCULADO    0\n",
      "MARGEN_TOTAL_CALCULADO       0\n",
      "dtype: int64\n"
     ]
    }
   ],
   "source": [
    "df2[\"DESCR\"].fillna(\"UNKNOWN\",inplace = True)\n",
    "print(df2.isnull().sum())"
   ]
  },
  {
   "cell_type": "code",
   "execution_count": 33,
   "metadata": {},
   "outputs": [
    {
     "name": "stdout",
     "output_type": "stream",
     "text": [
      "Empty DataFrame\n",
      "Columns: [CVE_DOC, FECHA_DOC, NOMBRE_VENDEDOR, NOMBRE_CLIENTE, CANT, CVE_ART, DESCR, PRECIO_UNITARIO, COSTO_UNITARIO, COSTO_UNITARIO_CALCULADO, SUBTOTAL_PARTIDA, COSTO_TOTAL_CALCULADO, MARGEN_UNITARIO_CALCULADO, MARGEN_TOTAL_CALCULADO]\n",
      "Index: []\n"
     ]
    }
   ],
   "source": [
    "null_values = df2[df2[\"PRECIO_UNITARIO\"].isnull()]\n",
    "print(null_values)"
   ]
  },
  {
   "cell_type": "code",
   "execution_count": 34,
   "metadata": {},
   "outputs": [
    {
     "name": "stdout",
     "output_type": "stream",
     "text": [
      "Empty DataFrame\n",
      "Columns: [CVE_DOC, FECHA_DOC, NOMBRE_VENDEDOR, NOMBRE_CLIENTE, CANT, CVE_ART, DESCR, PRECIO_UNITARIO, COSTO_UNITARIO, COSTO_UNITARIO_CALCULADO, SUBTOTAL_PARTIDA, COSTO_TOTAL_CALCULADO, MARGEN_UNITARIO_CALCULADO, MARGEN_TOTAL_CALCULADO]\n",
      "Index: []\n"
     ]
    }
   ],
   "source": [
    "null_values = df2[df2[\"COSTO_UNITARIO\"].isnull()]\n",
    "print(null_values)"
   ]
  },
  {
   "cell_type": "code",
   "execution_count": 35,
   "metadata": {},
   "outputs": [
    {
     "name": "stdout",
     "output_type": "stream",
     "text": [
      "Empty DataFrame\n",
      "Columns: [CVE_DOC, FECHA_DOC, NOMBRE_VENDEDOR, NOMBRE_CLIENTE, CANT, CVE_ART, DESCR, PRECIO_UNITARIO, COSTO_UNITARIO, COSTO_UNITARIO_CALCULADO, SUBTOTAL_PARTIDA, COSTO_TOTAL_CALCULADO, MARGEN_UNITARIO_CALCULADO, MARGEN_TOTAL_CALCULADO]\n",
      "Index: []\n"
     ]
    }
   ],
   "source": [
    "null_values = df2[df2[\"COSTO_UNITARIO_CALCULADO\"].isnull()]\n",
    "print(null_values)"
   ]
  },
  {
   "cell_type": "code",
   "execution_count": 36,
   "metadata": {},
   "outputs": [
    {
     "name": "stdout",
     "output_type": "stream",
     "text": [
      "Empty DataFrame\n",
      "Columns: [CVE_DOC, FECHA_DOC, NOMBRE_VENDEDOR, NOMBRE_CLIENTE, CANT, CVE_ART, DESCR, PRECIO_UNITARIO, COSTO_UNITARIO, COSTO_UNITARIO_CALCULADO, SUBTOTAL_PARTIDA, COSTO_TOTAL_CALCULADO, MARGEN_UNITARIO_CALCULADO, MARGEN_TOTAL_CALCULADO]\n",
      "Index: []\n"
     ]
    }
   ],
   "source": [
    "null_values = df2[df2[\"SUBTOTAL_PARTIDA\"].isnull()]\n",
    "print(null_values)"
   ]
  },
  {
   "cell_type": "markdown",
   "metadata": {},
   "source": [
    "**LOS ULTIMOS DATOS DE COSTO_TOTAL_UNITARIO, PRECIO_TOTAL_UNITARIO, SUBTOTAL_PARTIDA, COSTO_TOTAL_UNITARIO_CALCULADO Y PRECIO_TOTAL_UNITARIO_CALCULADO FUERON MODIFICADOS EN EL EXCEL CON LAS FORMULAS CORRESPONDIENTES YA QUE LOS DE MAS DATOS APOYABAN A ESTOS MISMOS A PODER SER COMPLETADOS DE LA MANERA QUE LES CORRESPONDIA**"
   ]
  },
  {
   "cell_type": "code",
   "execution_count": 37,
   "metadata": {},
   "outputs": [
    {
     "name": "stdout",
     "output_type": "stream",
     "text": [
      "CVE_DOC                      0\n",
      "FECHA_DOC                    0\n",
      "NOMBRE_VENDEDOR              0\n",
      "NOMBRE_CLIENTE               0\n",
      "CANT                         0\n",
      "CVE_ART                      0\n",
      "DESCR                        0\n",
      "PRECIO_UNITARIO              0\n",
      "COSTO_UNITARIO               0\n",
      "COSTO_UNITARIO_CALCULADO     0\n",
      "SUBTOTAL_PARTIDA             0\n",
      "COSTO_TOTAL_CALCULADO        0\n",
      "MARGEN_UNITARIO_CALCULADO    0\n",
      "MARGEN_TOTAL_CALCULADO       0\n",
      "dtype: int64\n"
     ]
    }
   ],
   "source": [
    "print(df2.isnull().sum())"
   ]
  },
  {
   "cell_type": "code",
   "execution_count": 38,
   "metadata": {},
   "outputs": [],
   "source": [
    "df.to_csv(\"Datos_de_Facturación_Limpio.csv\")\n",
    "df2.to_csv(\"Detalle_Precios_Productos_Fabricados.csv\")"
   ]
  }
 ],
 "metadata": {
  "kernelspec": {
   "display_name": "Python 3",
   "language": "python",
   "name": "python3"
  },
  "language_info": {
   "codemirror_mode": {
    "name": "ipython",
    "version": 3
   },
   "file_extension": ".py",
   "mimetype": "text/x-python",
   "name": "python",
   "nbconvert_exporter": "python",
   "pygments_lexer": "ipython3",
   "version": "3.11.4"
  },
  "orig_nbformat": 4
 },
 "nbformat": 4,
 "nbformat_minor": 2
}
